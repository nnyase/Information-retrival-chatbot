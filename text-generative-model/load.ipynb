{
 "cells": [
  {
   "cell_type": "code",
   "execution_count": 2,
   "metadata": {},
   "outputs": [],
   "source": [
    "import os\n",
    "import tarfile\n",
    "import zipfile\n",
    "import pandas as pd\n",
    "import re\n",
    "import numpy as np\n",
    "import pickle"
   ]
  },
  {
   "cell_type": "markdown",
   "metadata": {},
   "source": [
    "# Extracting data"
   ]
  },
  {
   "cell_type": "code",
   "execution_count": 10,
   "metadata": {},
   "outputs": [],
   "source": [
    "if not os.path.exists('data/customer-support'):\n",
    "    with zipfile.ZipFile('data/customer-support-on-twitter.zip') as f:\n",
    "        f.extractall('data/customer-support')"
   ]
  },
  {
   "cell_type": "code",
   "execution_count": 2,
   "metadata": {},
   "outputs": [],
   "source": [
    "if not os.path.exists('data/ubuntu-dialogue'):\n",
    "    with zipfile.ZipFile('data/ubuntu-dialogue-corpus.zip') as f:\n",
    "        f.extractall('data/ubuntu-dialogue')"
   ]
  },
  {
   "cell_type": "markdown",
   "metadata": {},
   "source": [
    "# Loading data"
   ]
  },
  {
   "cell_type": "markdown",
   "metadata": {},
   "source": [
    "## Twitter Customer Support data"
   ]
  },
  {
   "cell_type": "code",
   "execution_count": 90,
   "metadata": {},
   "outputs": [
    {
     "data": {
      "text/html": [
       "<div>\n",
       "<style scoped>\n",
       "    .dataframe tbody tr th:only-of-type {\n",
       "        vertical-align: middle;\n",
       "    }\n",
       "\n",
       "    .dataframe tbody tr th {\n",
       "        vertical-align: top;\n",
       "    }\n",
       "\n",
       "    .dataframe thead th {\n",
       "        text-align: right;\n",
       "    }\n",
       "</style>\n",
       "<table border=\"1\" class=\"dataframe\">\n",
       "  <thead>\n",
       "    <tr style=\"text-align: right;\">\n",
       "      <th></th>\n",
       "      <th>tweet_id</th>\n",
       "      <th>author_id</th>\n",
       "      <th>inbound</th>\n",
       "      <th>created_at</th>\n",
       "      <th>text</th>\n",
       "      <th>response_tweet_id</th>\n",
       "      <th>in_response_to_tweet_id</th>\n",
       "    </tr>\n",
       "  </thead>\n",
       "  <tbody>\n",
       "    <tr>\n",
       "      <th>0</th>\n",
       "      <td>1</td>\n",
       "      <td>sprintcare</td>\n",
       "      <td>False</td>\n",
       "      <td>Tue Oct 31 22:10:47 +0000 2017</td>\n",
       "      <td>@115712 I understand. I would like to assist y...</td>\n",
       "      <td>2</td>\n",
       "      <td>3.0</td>\n",
       "    </tr>\n",
       "    <tr>\n",
       "      <th>1</th>\n",
       "      <td>2</td>\n",
       "      <td>115712</td>\n",
       "      <td>True</td>\n",
       "      <td>Tue Oct 31 22:11:45 +0000 2017</td>\n",
       "      <td>@sprintcare and how do you propose we do that</td>\n",
       "      <td>NaN</td>\n",
       "      <td>1.0</td>\n",
       "    </tr>\n",
       "    <tr>\n",
       "      <th>2</th>\n",
       "      <td>3</td>\n",
       "      <td>115712</td>\n",
       "      <td>True</td>\n",
       "      <td>Tue Oct 31 22:08:27 +0000 2017</td>\n",
       "      <td>@sprintcare I have sent several private messag...</td>\n",
       "      <td>1</td>\n",
       "      <td>4.0</td>\n",
       "    </tr>\n",
       "    <tr>\n",
       "      <th>3</th>\n",
       "      <td>4</td>\n",
       "      <td>sprintcare</td>\n",
       "      <td>False</td>\n",
       "      <td>Tue Oct 31 21:54:49 +0000 2017</td>\n",
       "      <td>@115712 Please send us a Private Message so th...</td>\n",
       "      <td>3</td>\n",
       "      <td>5.0</td>\n",
       "    </tr>\n",
       "    <tr>\n",
       "      <th>4</th>\n",
       "      <td>5</td>\n",
       "      <td>115712</td>\n",
       "      <td>True</td>\n",
       "      <td>Tue Oct 31 21:49:35 +0000 2017</td>\n",
       "      <td>@sprintcare I did.</td>\n",
       "      <td>4</td>\n",
       "      <td>6.0</td>\n",
       "    </tr>\n",
       "  </tbody>\n",
       "</table>\n",
       "</div>"
      ],
      "text/plain": [
       "   tweet_id   author_id  inbound                      created_at  \\\n",
       "0         1  sprintcare    False  Tue Oct 31 22:10:47 +0000 2017   \n",
       "1         2      115712     True  Tue Oct 31 22:11:45 +0000 2017   \n",
       "2         3      115712     True  Tue Oct 31 22:08:27 +0000 2017   \n",
       "3         4  sprintcare    False  Tue Oct 31 21:54:49 +0000 2017   \n",
       "4         5      115712     True  Tue Oct 31 21:49:35 +0000 2017   \n",
       "\n",
       "                                                text response_tweet_id  \\\n",
       "0  @115712 I understand. I would like to assist y...                 2   \n",
       "1      @sprintcare and how do you propose we do that               NaN   \n",
       "2  @sprintcare I have sent several private messag...                 1   \n",
       "3  @115712 Please send us a Private Message so th...                 3   \n",
       "4                                 @sprintcare I did.                 4   \n",
       "\n",
       "  in_response_to_tweet_id  \n",
       "0                     3.0  \n",
       "1                     1.0  \n",
       "2                     4.0  \n",
       "3                     5.0  \n",
       "4                     6.0  "
      ]
     },
     "execution_count": 90,
     "metadata": {},
     "output_type": "execute_result"
    }
   ],
   "source": [
    "twitter = pd.read_csv('data/customer-support/twcs/twcs.csv')\n",
    "twitter = twitter.astype({'in_response_to_tweet_id': 'object', 'response_tweet_id': 'object'})\n",
    "\n",
    "twitter.head()"
   ]
  },
  {
   "cell_type": "code",
   "execution_count": 91,
   "metadata": {},
   "outputs": [
    {
     "data": {
      "text/html": [
       "<div>\n",
       "<style scoped>\n",
       "    .dataframe tbody tr th:only-of-type {\n",
       "        vertical-align: middle;\n",
       "    }\n",
       "\n",
       "    .dataframe tbody tr th {\n",
       "        vertical-align: top;\n",
       "    }\n",
       "\n",
       "    .dataframe thead th {\n",
       "        text-align: right;\n",
       "    }\n",
       "</style>\n",
       "<table border=\"1\" class=\"dataframe\">\n",
       "  <thead>\n",
       "    <tr style=\"text-align: right;\">\n",
       "      <th></th>\n",
       "      <th>author_id</th>\n",
       "      <th>inbound</th>\n",
       "      <th>text</th>\n",
       "      <th>response_tweet_id</th>\n",
       "      <th>in_response_to_tweet_id</th>\n",
       "    </tr>\n",
       "    <tr>\n",
       "      <th>tweet_id</th>\n",
       "      <th></th>\n",
       "      <th></th>\n",
       "      <th></th>\n",
       "      <th></th>\n",
       "      <th></th>\n",
       "    </tr>\n",
       "  </thead>\n",
       "  <tbody>\n",
       "    <tr>\n",
       "      <th>1</th>\n",
       "      <td>sprintcare</td>\n",
       "      <td>False</td>\n",
       "      <td>I understand. I would like to assist you. We w...</td>\n",
       "      <td>2</td>\n",
       "      <td>3.0</td>\n",
       "    </tr>\n",
       "    <tr>\n",
       "      <th>2</th>\n",
       "      <td>115712</td>\n",
       "      <td>True</td>\n",
       "      <td>and how do you propose we do that</td>\n",
       "      <td>NaN</td>\n",
       "      <td>1.0</td>\n",
       "    </tr>\n",
       "    <tr>\n",
       "      <th>3</th>\n",
       "      <td>115712</td>\n",
       "      <td>True</td>\n",
       "      <td>I have sent several private messages and no on...</td>\n",
       "      <td>1</td>\n",
       "      <td>4.0</td>\n",
       "    </tr>\n",
       "    <tr>\n",
       "      <th>4</th>\n",
       "      <td>sprintcare</td>\n",
       "      <td>False</td>\n",
       "      <td>Please send us a Private Message so that we ca...</td>\n",
       "      <td>3</td>\n",
       "      <td>5.0</td>\n",
       "    </tr>\n",
       "    <tr>\n",
       "      <th>5</th>\n",
       "      <td>115712</td>\n",
       "      <td>True</td>\n",
       "      <td>I did.</td>\n",
       "      <td>4</td>\n",
       "      <td>6.0</td>\n",
       "    </tr>\n",
       "  </tbody>\n",
       "</table>\n",
       "</div>"
      ],
      "text/plain": [
       "           author_id  inbound  \\\n",
       "tweet_id                        \n",
       "1         sprintcare    False   \n",
       "2             115712     True   \n",
       "3             115712     True   \n",
       "4         sprintcare    False   \n",
       "5             115712     True   \n",
       "\n",
       "                                                       text response_tweet_id  \\\n",
       "tweet_id                                                                        \n",
       "1         I understand. I would like to assist you. We w...                 2   \n",
       "2                         and how do you propose we do that               NaN   \n",
       "3         I have sent several private messages and no on...                 1   \n",
       "4         Please send us a Private Message so that we ca...                 3   \n",
       "5                                                    I did.                 4   \n",
       "\n",
       "         in_response_to_tweet_id  \n",
       "tweet_id                          \n",
       "1                            3.0  \n",
       "2                            1.0  \n",
       "3                            4.0  \n",
       "4                            5.0  \n",
       "5                            6.0  "
      ]
     },
     "execution_count": 91,
     "metadata": {},
     "output_type": "execute_result"
    }
   ],
   "source": [
    "twitter.drop(columns=['created_at'], inplace=True)\n",
    "\n",
    "twitter['text'] = twitter['text'].apply(lambda text: re.sub(r'([^A-Za-z0-9]+@[A-Za-z0-9_]+)|(^@[A-Za-z0-9_]+)', '', text))\n",
    "twitter['text'] = twitter['text'].apply(lambda text: text.strip())\n",
    "#twitter['text'] = twitter['text'].apply(lambda text: text.replace('\\n', ' '))\n",
    "twitter = twitter.set_index('tweet_id')\n",
    "\n",
    "twitter.head()"
   ]
  },
  {
   "cell_type": "code",
   "execution_count": 5,
   "metadata": {},
   "outputs": [],
   "source": [
    "twitter_dict = twitter.to_dict('index')"
   ]
  },
  {
   "cell_type": "code",
   "execution_count": 41,
   "metadata": {},
   "outputs": [],
   "source": [
    "twitter_ = {}\n",
    "\n",
    "for idx, values in twitter_dict.items(): \n",
    "    twitter_[idx] = {\n",
    "        'author_id': values['author_id'],\n",
    "        'inbound': values['inbound'],\n",
    "        'text': values['text'],\n",
    "        'response_tweet_id': [int(i) for i in str(values['response_tweet_id']).split(',')] if not pd.isna(values['response_tweet_id']) else [],\n",
    "        'in_response_to_tweet_id': int(values['in_response_to_tweet_id']) if not pd.isna(values['in_response_to_tweet_id']) else np.nan\n",
    "    }"
   ]
  },
  {
   "cell_type": "code",
   "execution_count": 42,
   "metadata": {},
   "outputs": [],
   "source": [
    "twitter_inbounds_dict = {k: v for k, v in twitter_.items() if v['inbound'] == True and pd.isna(v['in_response_to_tweet_id'])}"
   ]
  },
  {
   "cell_type": "code",
   "execution_count": 43,
   "metadata": {},
   "outputs": [],
   "source": [
    "twitter_ = {k: v['response_tweet_id'] for k,v in twitter_.items()}"
   ]
  },
  {
   "cell_type": "code",
   "execution_count": 44,
   "metadata": {},
   "outputs": [],
   "source": [
    "twitter_inbounds_dict = {k: v['response_tweet_id'] for k,v in twitter_inbounds_dict.items()}"
   ]
  },
  {
   "cell_type": "code",
   "execution_count": 66,
   "metadata": {},
   "outputs": [],
   "source": [
    "def get_conversations():\n",
    "    conversations = []\n",
    "    for start_id in twitter_inbounds_dict.keys():\n",
    "        visitedList = []\n",
    "\n",
    "        def depthFirst(graph, currentVertex, visited):\n",
    "            visited.append(currentVertex)\n",
    "            if currentVertex in graph:\n",
    "                for vertex in graph[currentVertex]:\n",
    "                    if vertex not in visited:\n",
    "                        depthFirst(graph, vertex, visited.copy())\n",
    "                visitedList.append(visited)\n",
    "\n",
    "        depthFirst(twitter_, start_id, [])\n",
    "\n",
    "        conversations.extend([l for l in visitedList if len(l) > 1])\n",
    "\n",
    "    return conversations"
   ]
  },
  {
   "cell_type": "code",
   "execution_count": 67,
   "metadata": {},
   "outputs": [],
   "source": [
    "conversations_ids = get_conversations()"
   ]
  },
  {
   "cell_type": "code",
   "execution_count": 95,
   "metadata": {},
   "outputs": [],
   "source": [
    "conversations = []\n",
    "\n",
    "for c in conversations_ids:\n",
    "    conv = []\n",
    "    for idx in c:\n",
    "        conv.append(twitter_dict[idx]['text'].strip())\n",
    "    conversations.append(conv)"
   ]
  },
  {
   "cell_type": "code",
   "execution_count": 98,
   "metadata": {},
   "outputs": [],
   "source": [
    "conversations_filtered = [c for c in conversations if len(c) ==4]"
   ]
  },
  {
   "cell_type": "code",
   "execution_count": 101,
   "metadata": {},
   "outputs": [
    {
     "data": {
      "text/plain": [
       "262565"
      ]
     },
     "execution_count": 101,
     "metadata": {},
     "output_type": "execute_result"
    }
   ],
   "source": [
    "len(conversations_filtered)"
   ]
  },
  {
   "cell_type": "code",
   "execution_count": 100,
   "metadata": {},
   "outputs": [],
   "source": [
    "with open('data/twitter_data.pickle', 'wb') as f:\n",
    "    pickle.dump(conversations_filtered, f)"
   ]
  },
  {
   "cell_type": "markdown",
   "metadata": {},
   "source": [
    "## Ubuntu Dialogue"
   ]
  },
  {
   "cell_type": "code",
   "execution_count": 116,
   "metadata": {},
   "outputs": [
    {
     "data": {
      "text/html": [
       "<div>\n",
       "<style scoped>\n",
       "    .dataframe tbody tr th:only-of-type {\n",
       "        vertical-align: middle;\n",
       "    }\n",
       "\n",
       "    .dataframe tbody tr th {\n",
       "        vertical-align: top;\n",
       "    }\n",
       "\n",
       "    .dataframe thead th {\n",
       "        text-align: right;\n",
       "    }\n",
       "</style>\n",
       "<table border=\"1\" class=\"dataframe\">\n",
       "  <thead>\n",
       "    <tr style=\"text-align: right;\">\n",
       "      <th></th>\n",
       "      <th>folder</th>\n",
       "      <th>dialogueID</th>\n",
       "      <th>date</th>\n",
       "      <th>from</th>\n",
       "      <th>to</th>\n",
       "      <th>text</th>\n",
       "    </tr>\n",
       "  </thead>\n",
       "  <tbody>\n",
       "    <tr>\n",
       "      <th>0</th>\n",
       "      <td>60</td>\n",
       "      <td>1.tsv</td>\n",
       "      <td>2004-09-07T09:18:00.000Z</td>\n",
       "      <td>fabbione</td>\n",
       "      <td></td>\n",
       "      <td>FUCK</td>\n",
       "    </tr>\n",
       "    <tr>\n",
       "      <th>1</th>\n",
       "      <td>60</td>\n",
       "      <td>1.tsv</td>\n",
       "      <td>2004-09-07T09:18:00.000Z</td>\n",
       "      <td>fabbione</td>\n",
       "      <td></td>\n",
       "      <td>they stolen my car!</td>\n",
       "    </tr>\n",
       "    <tr>\n",
       "      <th>2</th>\n",
       "      <td>60</td>\n",
       "      <td>1.tsv</td>\n",
       "      <td>2004-09-07T09:18:00.000Z</td>\n",
       "      <td>fabbione</td>\n",
       "      <td></td>\n",
       "      <td>FUCK</td>\n",
       "    </tr>\n",
       "    <tr>\n",
       "      <th>3</th>\n",
       "      <td>60</td>\n",
       "      <td>1.tsv</td>\n",
       "      <td>2004-09-07T09:18:00.000Z</td>\n",
       "      <td>jdub</td>\n",
       "      <td>fabbione</td>\n",
       "      <td>!!!</td>\n",
       "    </tr>\n",
       "    <tr>\n",
       "      <th>4</th>\n",
       "      <td>60</td>\n",
       "      <td>1.tsv</td>\n",
       "      <td>2004-09-12T13:12:00.000Z</td>\n",
       "      <td>jdub</td>\n",
       "      <td>fabbione</td>\n",
       "      <td>your hackergotchi can be a bum :)</td>\n",
       "    </tr>\n",
       "    <tr>\n",
       "      <th>5</th>\n",
       "      <td>60</td>\n",
       "      <td>1.tsv</td>\n",
       "      <td>2004-09-13T06:41:00.000Z</td>\n",
       "      <td>fabbione</td>\n",
       "      <td>jdub</td>\n",
       "      <td>dude?</td>\n",
       "    </tr>\n",
       "    <tr>\n",
       "      <th>6</th>\n",
       "      <td>60</td>\n",
       "      <td>1.tsv</td>\n",
       "      <td>2004-09-13T12:33:00.000Z</td>\n",
       "      <td>fabbione</td>\n",
       "      <td>jdub</td>\n",
       "      <td>are you going to fix it???</td>\n",
       "    </tr>\n",
       "    <tr>\n",
       "      <th>7</th>\n",
       "      <td>60</td>\n",
       "      <td>1.tsv</td>\n",
       "      <td>2004-09-14T12:18:00.000Z</td>\n",
       "      <td>jdub</td>\n",
       "      <td>fabbione</td>\n",
       "      <td>fix on its way</td>\n",
       "    </tr>\n",
       "    <tr>\n",
       "      <th>8</th>\n",
       "      <td>60</td>\n",
       "      <td>1.tsv</td>\n",
       "      <td>2004-09-14T12:20:00.000Z</td>\n",
       "      <td>fabbione</td>\n",
       "      <td>jdub</td>\n",
       "      <td>thanks</td>\n",
       "    </tr>\n",
       "    <tr>\n",
       "      <th>9</th>\n",
       "      <td>60</td>\n",
       "      <td>1.tsv</td>\n",
       "      <td>2004-09-17T11:48:00.000Z</td>\n",
       "      <td>fabbione</td>\n",
       "      <td>jdub</td>\n",
       "      <td>mine is normal installation. i don't customize...</td>\n",
       "    </tr>\n",
       "  </tbody>\n",
       "</table>\n",
       "</div>"
      ],
      "text/plain": [
       "   folder dialogueID                      date      from        to  \\\n",
       "0      60      1.tsv  2004-09-07T09:18:00.000Z  fabbione             \n",
       "1      60      1.tsv  2004-09-07T09:18:00.000Z  fabbione             \n",
       "2      60      1.tsv  2004-09-07T09:18:00.000Z  fabbione             \n",
       "3      60      1.tsv  2004-09-07T09:18:00.000Z      jdub  fabbione   \n",
       "4      60      1.tsv  2004-09-12T13:12:00.000Z      jdub  fabbione   \n",
       "5      60      1.tsv  2004-09-13T06:41:00.000Z  fabbione      jdub   \n",
       "6      60      1.tsv  2004-09-13T12:33:00.000Z  fabbione      jdub   \n",
       "7      60      1.tsv  2004-09-14T12:18:00.000Z      jdub  fabbione   \n",
       "8      60      1.tsv  2004-09-14T12:20:00.000Z  fabbione      jdub   \n",
       "9      60      1.tsv  2004-09-17T11:48:00.000Z  fabbione      jdub   \n",
       "\n",
       "                                                text  \n",
       "0                                               FUCK  \n",
       "1                                they stolen my car!  \n",
       "2                                               FUCK  \n",
       "3                                                !!!  \n",
       "4                  your hackergotchi can be a bum :)  \n",
       "5                                              dude?  \n",
       "6                         are you going to fix it???  \n",
       "7                                     fix on its way  \n",
       "8                                             thanks  \n",
       "9  mine is normal installation. i don't customize...  "
      ]
     },
     "execution_count": 116,
     "metadata": {},
     "output_type": "execute_result"
    }
   ],
   "source": [
    "ubuntu = pd.read_csv('data/ubuntu-dialogue/Ubuntu-dialogue-corpus/dialogueText_301.csv', nrows=200000)\n",
    "ubuntu = ubuntu.sort_values(['dialogueID', 'date'], ignore_index=True)\n",
    "ubuntu['to'] = ubuntu['to'].replace({np.nan: ''})\n",
    "ubuntu.head(10)"
   ]
  },
  {
   "cell_type": "code",
   "execution_count": 118,
   "metadata": {},
   "outputs": [],
   "source": [
    "def merge(d):\n",
    "    texts = []\n",
    "    _temp = d['text'][0]\n",
    "    last_from = d['from'][0]\n",
    "    last_to = d['to'][0]\n",
    "\n",
    "    for i in range(1, len(d['text'])):\n",
    "        if last_from == d['from'][i] and last_to == d['to'][i]:\n",
    "            _temp += \" \" + str(d['text'][i])\n",
    "\n",
    "        else:\n",
    "            last_from = d['from'][i]\n",
    "            last_to = d['to'][i]\n",
    "            texts.append(_temp)\n",
    "            _temp = str(d['text'][i])\n",
    "\n",
    "    return texts\n",
    "\n",
    "ubuntu_dialogues = ubuntu['dialogueID'].unique()\n",
    "\n",
    "total = []\n",
    "for dialogue in ubuntu_dialogues:\n",
    "    ubuntu_sub = ubuntu[ubuntu['dialogueID'] == dialogue]\n",
    "\n",
    "    total.append(merge({'text': ubuntu_sub['text'].tolist(), 'from': ubuntu_sub['from'].tolist(), 'to': ubuntu_sub['to'].tolist()}))"
   ]
  },
  {
   "cell_type": "code",
   "execution_count": 119,
   "metadata": {},
   "outputs": [
    {
     "data": {
      "text/plain": [
       "7736"
      ]
     },
     "execution_count": 119,
     "metadata": {},
     "output_type": "execute_result"
    }
   ],
   "source": [
    "len(total)"
   ]
  },
  {
   "cell_type": "code",
   "execution_count": 120,
   "metadata": {},
   "outputs": [],
   "source": [
    "total = [t[i:i+4] for t in total for i in range(0, len(t), 4) if len(t[i:i+4]) == 4 ]"
   ]
  },
  {
   "cell_type": "code",
   "execution_count": 121,
   "metadata": {},
   "outputs": [
    {
     "data": {
      "text/plain": [
       "24251"
      ]
     },
     "execution_count": 121,
     "metadata": {},
     "output_type": "execute_result"
    }
   ],
   "source": [
    "len(total)"
   ]
  },
  {
   "cell_type": "code",
   "execution_count": 122,
   "metadata": {},
   "outputs": [],
   "source": [
    "with open('data/ubuntu_data.pickle', 'wb') as f:\n",
    "    pickle.dump(total, f)"
   ]
  },
  {
   "cell_type": "markdown",
   "source": [
    "## Twitter Customer Support data"
   ],
   "metadata": {
    "collapsed": false
   }
  },
  {
   "cell_type": "code",
   "execution_count": null,
   "outputs": [],
   "source": [
    "utterances_dict = {}\n",
    "\n",
    "with open('data/cornell movie-dialogs corpus/movie_lines.txt', 'rt', encoding='iso-8859-1') as f:\n",
    "    for line in f:\n",
    "        l = line.split('+++$+++')\n",
    "\n",
    "        utterances_dict[l[0].strip()] = l[-1].strip()"
   ],
   "metadata": {
    "collapsed": false,
    "pycharm": {
     "name": "#%%\n"
    }
   }
  },
  {
   "cell_type": "code",
   "execution_count": null,
   "outputs": [],
   "source": [
    "conversations = []\n",
    "\n",
    "with open('data/cornell movie-dialogs corpus/movie_conversations.txt', 'rt', encoding='iso-8859-1') as f:\n",
    "    for line in f:\n",
    "        conv = line.split('+++$+++')[-1]\n",
    "        conv = conv[2:-2].split(', ')\n",
    "\n",
    "        conv = [c.strip('\\'') for c in conv]\n",
    "\n",
    "        conversations.append([utterances_dict[c] for c in conv])"
   ],
   "metadata": {
    "collapsed": false,
    "pycharm": {
     "name": "#%%\n"
    }
   }
  },
  {
   "cell_type": "code",
   "execution_count": null,
   "outputs": [],
   "source": [
    "sum([len(c) for c in conversations])/len(conversations)"
   ],
   "metadata": {
    "collapsed": false,
    "pycharm": {
     "name": "#%%\n"
    }
   }
  },
  {
   "cell_type": "code",
   "execution_count": null,
   "outputs": [],
   "source": [
    "ready_conversations = [list(reversed(c[:4])) for c in conversations if len(c) >= 4]\n",
    "len(ready_conversations)"
   ],
   "metadata": {
    "collapsed": false,
    "pycharm": {
     "name": "#%%\n"
    }
   }
  },
  {
   "cell_type": "code",
   "execution_count": null,
   "outputs": [],
   "source": [
    "with open('data/movie_data.pickle', 'wb') as f:\n",
    "    pickle.dump(ready_conversations, f)"
   ],
   "metadata": {
    "collapsed": false,
    "pycharm": {
     "name": "#%%\n"
    }
   }
  },
  {
   "cell_type": "code",
   "execution_count": null,
   "outputs": [],
   "source": [
    "tolokers = pd.read_json('data/data_tolokers.json')['dialog']\n",
    "\n",
    "tolokers_conversations = []\n",
    "\n",
    "for i in range(len(tolokers)):\n",
    "    conv = []\n",
    "    for j in range(0, len(tolokers[i])-3):\n",
    "        conv.append(list(reversed([t['text'] for t in tolokers[i][j:j+4]] )))\n",
    "    tolokers_conversations.extend(conv)"
   ],
   "metadata": {
    "collapsed": false,
    "pycharm": {
     "name": "#%%\n"
    }
   }
  },
  {
   "cell_type": "code",
   "execution_count": 1,
   "outputs": [
    {
     "ename": "NameError",
     "evalue": "name 'tolokers_conversations' is not defined",
     "output_type": "error",
     "traceback": [
      "\u001B[0;31m---------------------------------------------------------------------------\u001B[0m",
      "\u001B[0;31mNameError\u001B[0m                                 Traceback (most recent call last)",
      "\u001B[0;32m<ipython-input-1-34ce43ab62bb>\u001B[0m in \u001B[0;36m<module>\u001B[0;34m\u001B[0m\n\u001B[0;32m----> 1\u001B[0;31m \u001B[0mlen\u001B[0m\u001B[0;34m(\u001B[0m\u001B[0mtolokers_conversations\u001B[0m\u001B[0;34m)\u001B[0m\u001B[0;34m\u001B[0m\u001B[0;34m\u001B[0m\u001B[0m\n\u001B[0m",
      "\u001B[0;31mNameError\u001B[0m: name 'tolokers_conversations' is not defined"
     ]
    }
   ],
   "source": [
    "len(tolokers_conversations)"
   ],
   "metadata": {
    "collapsed": false,
    "pycharm": {
     "name": "#%%\n"
    }
   }
  },
  {
   "cell_type": "code",
   "execution_count": null,
   "outputs": [],
   "source": [
    "with open('data/tolokers_data.pickle', 'wb') as f:\n",
    "    pickle.dump(tolokers_conversations, f)"
   ],
   "metadata": {
    "collapsed": false,
    "pycharm": {
     "name": "#%%\n"
    }
   }
  }
 ],
 "metadata": {
  "interpreter": {
   "hash": "dcb153a1a2aae8e081caa71bf2fab06bdec51d41e1970f84c88101117910e597"
  },
  "kernelspec": {
   "display_name": "Python 3.8.8 64-bit ('base': conda)",
   "name": "python3"
  },
  "language_info": {
   "codemirror_mode": {
    "name": "ipython",
    "version": 3
   },
   "file_extension": ".py",
   "mimetype": "text/x-python",
   "name": "python",
   "nbconvert_exporter": "python",
   "pygments_lexer": "ipython3",
   "version": "3.8.8"
  },
  "orig_nbformat": 4
 },
 "nbformat": 4,
 "nbformat_minor": 2
}